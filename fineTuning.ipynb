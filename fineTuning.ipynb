{
 "cells": [
  {
   "cell_type": "code",
   "execution_count": null,
   "id": "35b87cae",
   "metadata": {},
   "outputs": [],
   "source": [
    "# Imports\n",
    "import tensorflow as tf\n",
    "from tensorflow import keras\n",
    "from keras import layers\n",
    "from keras.utils import pad_sequences\n",
    "from keras_preprocessing.text import Tokenizer\n",
    "import os\n",
    "import numpy as np\n",
    "import pickle\n",
    "print(tf.config.list_physical_devices('GPU'))"
   ]
  },
  {
   "cell_type": "code",
   "execution_count": null,
   "id": "f2ef46e0",
   "metadata": {},
   "outputs": [],
   "source": [
    "input_texts = []\n",
    "output_texts = []\n",
    "\n",
    "\n",
    "with open(\"Input_Dataset_2_5m/prompts.txt\") as f:\n",
    "  input_texts = f.read().splitlines()\n",
    "\n",
    "with open(\"Input_Dataset_2_5m/code.txt\") as f:\n",
    "  output_texts = f.read().splitlines()"
   ]
  },
  {
   "cell_type": "code",
   "execution_count": null,
   "id": "d22aec29",
   "metadata": {},
   "outputs": [],
   "source": [
    "with open(\"tokenizer.pkl\", \"rb\") as f:\n",
    "    loaded_tokenizer = pickle.load(f)\n",
    "\n",
    "\n",
    "combined_texts = []\n",
    "for prompt, code in zip(input_texts, output_texts):\n",
    "    combined_text = \"<Start> \" + prompt + \" <SEP> \" + code + \" <End>\"\n",
    "    combined_texts.append(combined_text)\n",
    "\n",
    "loaded_tokenizer.fit_on_texts(combined_texts)\n",
    "loaded_tokenizer.word_index = {\"<PAD>\": 0, **{k: v+1 for k, v in loaded_tokenizer.word_index.items()}}\n",
    "loaded_tokenizer.index_word = {v: k for k, v in loaded_tokenizer.word_index.items()}\n",
    "\n",
    "sequences = loaded_tokenizer.texts_to_sequences(combined_texts)\n",
    "\n",
    "max_seq_len = max(len(seq) for seq in sequences)\n",
    "\n",
    "sequences = pad_sequences(sequences,maxlen=max_seq_len,padding='post',truncating=\"post\")\n",
    "print(max_seq_len)\n",
    "\n",
    "vocab_size = len(loaded_tokenizer.word_index) + 1"
   ]
  },
  {
   "cell_type": "code",
   "execution_count": null,
   "id": "b069e27d",
   "metadata": {},
   "outputs": [],
   "source": [
    "# Model loading\n",
    "\n",
    "model = keras.models.load_model(\"/Models/best_decoder_model1.keras\")"
   ]
  },
  {
   "cell_type": "code",
   "execution_count": null,
   "id": "fa698e53",
   "metadata": {},
   "outputs": [],
   "source": [
    "# Fine Tuning "
   ]
  }
 ],
 "metadata": {
  "kernelspec": {
   "display_name": "tf-gpu",
   "language": "python",
   "name": "python3"
  },
  "language_info": {
   "name": "python",
   "version": "3.9.21"
  }
 },
 "nbformat": 4,
 "nbformat_minor": 5
}
